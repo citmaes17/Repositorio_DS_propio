{
 "cells": [
  {
   "cell_type": "markdown",
   "metadata": {},
   "source": [
    "![imagen](./img/ejercicios.png)"
   ]
  },
  {
   "cell_type": "markdown",
   "metadata": {},
   "source": [
    "# Ejercicios Flujos de control"
   ]
  },
  {
   "cell_type": "markdown",
   "metadata": {},
   "source": [
    "## Ejercicio 1\n",
    "Declara una variable numérica que será una hora cualquiera del día. Implementa la siguiente casuística:\n",
    "\n",
    "* Si es entre las 0 y las 8, print \"Durmiendo\"\n",
    "* Si es entre las 9 y las 18, print \"Trabajando\"\n",
    "* Si es entre las 19 y las 21, print \"Clase\"\n",
    "* Si es entre las 22 y las 24, print \"Descanso\"\n",
    "* En cualquier otro caso, print \"Transporte o error\""
   ]
  },
  {
   "cell_type": "code",
   "execution_count": null,
   "metadata": {},
   "outputs": [
    {
     "name": "stdout",
     "output_type": "stream",
     "text": [
      "Clase\n"
     ]
    }
   ],
   "source": [
    "from datetime import time\n",
    "\n",
    "\n",
    "hora = time(20, 30, 15)\n",
    "\n",
    "\n",
    "if ( time(0,0,00) < hora < time(8,0,00)):\n",
    "    print(\"Durmiendo\")\n",
    "\n",
    "elif (time(9,0,00) <= hora < time(18,0,00)):\n",
    "    print(\"Trabajando\")\n",
    "    \n",
    "elif (time(19,0,00) <= hora < time(21,0,00)):\n",
    "    print(\"Clase\")\n",
    "    \n",
    "elif (time(22,0,00) <= hora < time(24,0,00)):\n",
    "    print(\"Descansando\")\n",
    "    \n",
    "else:\n",
    "    print(\"Transporte o error\")\n",
    "\n",
    "\n",
    "    \n"
   ]
  },
  {
   "cell_type": "markdown",
   "metadata": {},
   "source": [
    "## Ejercicio 2\n",
    "En este ejercicio vamos a implementar un calculador de precios de casas muy sencillo. Tenemos las siguientes variables:\n",
    "\n",
    "> superficie\n",
    ">\n",
    "> distrito\n",
    "\n",
    "Implementa la siguiente casuística:\n",
    "\n",
    "1. Si el distrito es \"Moncloa\" o \"Centro\", y además la superficie es superior a 100 metros cuadrados, el precio de la casa es de 1000\n",
    "2. Si el distrito es \"Salamanca\", y además la superficie de la casa es al menos de 150 metros, el precio de la casa es de 1500\n",
    "3. Si el distrito no es \"Retiro\" y la superficie está entre 60 y 80 metros, el precio es de 600\n",
    "4. En cualquier otro caso, el precio será de 0"
   ]
  },
  {
   "cell_type": "code",
   "execution_count": null,
   "metadata": {},
   "outputs": [
    {
     "name": "stdout",
     "output_type": "stream",
     "text": [
      "El precio de la casa es de 1000.\n"
     ]
    }
   ],
   "source": [
    "distrito= (input(\"Escribe el distrito: \")).lower().replace(\" \", \"\")\n",
    "\n",
    "superficie=float(input(\"Escribe la superficie: \").replace(\",\", \".\"))\n",
    "\n",
    "if (distrito == \"moncloa\" or distrito == \"centro\") and superficie > 100:\n",
    "    print(\"El precio de la casa es de 1000.\")\n",
    "elif distrito == \"salamanca\" and superficie >= 150:\n",
    "    print(\"El precio de la casa es de 1500.\")\n",
    "elif distrito != \"retiro\" and 60 <= superficie <= 80:\n",
    "    print(\"El precio de la casa es de 600.\")\n",
    "else:\n",
    "    print(\"El precio de la casa es de 0.\")\n",
    "    \n",
    "    "
   ]
  },
  {
   "cell_type": "markdown",
   "metadata": {},
   "source": [
    "## Ejercicio 3\n",
    "En este ejercicio vamos a realizar un programa muy parecido. Para este caso queremos que se cumplan las siguientes condiciones:\n",
    "\n",
    "1. Primero se compruebe si el distrito es \"Retiro\". Si es asá, que imprima \"Distrito Retiro\", y si no, \"Otro distrito\"\n",
    "2. Si el distrito es \"Retiro\", comprueba si la superficie es mayor de 100 metros cuadrados. En tal caso, que imprima un precio de 1000, y si no, de 500.\n",
    "\n",
    "Prueba a usar `ifs` anidados"
   ]
  },
  {
   "cell_type": "code",
   "execution_count": 2,
   "metadata": {},
   "outputs": [
    {
     "name": "stdout",
     "output_type": "stream",
     "text": [
      "Distrito Retiro\n",
      "El precio de la casa es de 500\n"
     ]
    }
   ],
   "source": [
    "\n",
    "distrito= (input(\"Escribe el distrito: \")).lower().replace(\" \", \"\")\n",
    "\n",
    "if distrito == \"retiro\":\n",
    "    \n",
    "    print(\"Distrito Retiro\")\n",
    "    \n",
    "    superficie=float(input(\"Escribe la superficie en metros cuadrados: \").replace(\",\", \".\"))\n",
    "        \n",
    "    if superficie > 100:\n",
    "        print (\"El precio de la casa es de 1000\")\n",
    "    else:\n",
    "        print (\"El precio de la casa es de 500\")\n",
    "else:\n",
    "    print(\"Otro distrito\")"
   ]
  },
  {
   "cell_type": "markdown",
   "metadata": {},
   "source": [
    "## Ejercicio 4\n",
    "Escribe un programa que tenga dos variables: un numero, y una lista numérica. El programa debe recorrer la lista e imprimir por pantalla cada elemento de la lista multiplicado por el número"
   ]
  },
  {
   "cell_type": "code",
   "execution_count": null,
   "metadata": {},
   "outputs": [
    {
     "name": "stdout",
     "output_type": "stream",
     "text": [
      "8.0\n",
      "-10.0\n",
      "80.0\n",
      "48.0\n",
      "-34.0\n"
     ]
    }
   ],
   "source": [
    "numero= float(input(\"Ingrese el numero que dese multiplicar:\").replace(\",\",\".\"))\n",
    "lista = [4,-5, 40, 24,-17]\n",
    "\n",
    "for i, num in enumerate(lista):\n",
    "    print(num*numero)"
   ]
  },
  {
   "cell_type": "markdown",
   "metadata": {},
   "source": [
    "## Ejercicio 5\n",
    "Imprime por pantalla cada número del -10 al -1. En ese orden. Consulta [la documentación](https://www.w3schools.com/python/ref_func_range.asp) de `range`"
   ]
  },
  {
   "cell_type": "code",
   "execution_count": 4,
   "metadata": {},
   "outputs": [
    {
     "name": "stdout",
     "output_type": "stream",
     "text": [
      "-10\n",
      "-9\n",
      "-8\n",
      "-7\n",
      "-6\n",
      "-5\n",
      "-4\n",
      "-3\n",
      "-2\n",
      "-1\n"
     ]
    }
   ],
   "source": [
    "for n in (range(-10,0,1)):\n",
    "  print(n)"
   ]
  },
  {
   "cell_type": "markdown",
   "metadata": {},
   "source": [
    "## Ejercicio 6\n",
    "Dada la siguiente lista:\n",
    "\n",
    "> list1 = [12, 15, 32, 42, 55, 75, 122, 132, 150, 180, 200]\n",
    "\n",
    "Implementa un programa que los recorra e imprima por pantalla todos los divisibles por 5. Si nos encontramos con alguno que sea mayor que 150, detener el bucle."
   ]
  },
  {
   "cell_type": "code",
   "execution_count": null,
   "metadata": {},
   "outputs": [
    {
     "name": "stdout",
     "output_type": "stream",
     "text": [
      "15\n",
      "55\n",
      "75\n",
      "150\n",
      "Análisis terminado\n"
     ]
    }
   ],
   "source": [
    "list1 = [12, 15, 32, 42, 55, 75, 122, 132, 150, 180, 200]\n",
    "\n",
    "for dato in list1:\n",
    "    if dato > 150:\n",
    "        #continue # Usando continuo lo que hara es no imprimir nada en pantalla y sigue haciendo el analis con los siguientes datos para saber si los siguientes dato son o no multiplos\n",
    "        break   # Deja de iterar y hacer un analisis en los siguientes datos, sin embargo, si la lista no esta organizada detiene el analisis sin saber si los siguientes datos pueden ser  multiplos o no\n",
    "    if dato % 5 == 0:\n",
    "        print(dato)\n",
    "\n",
    "print(\"Análisis terminado\")"
   ]
  },
  {
   "attachments": {},
   "cell_type": "markdown",
   "metadata": {},
   "source": [
    "## Ejercicio 7\n",
    "Escribe un programa en Python que imprima por pantalla todos los números que cumplan que sean divisibles por 5 y divisibles por 7, dentro del rango de valores (150, 350)."
   ]
  },
  {
   "cell_type": "code",
   "execution_count": 20,
   "metadata": {},
   "outputs": [
    {
     "name": "stdout",
     "output_type": "stream",
     "text": [
      "175 = Divido en 5 -> 35.0 y divido en 7 -> 25.0\n",
      "\n",
      "210 = Divido en 5 -> 42.0 y divido en 7 -> 30.0\n",
      "\n",
      "245 = Divido en 5 -> 49.0 y divido en 7 -> 35.0\n",
      "\n",
      "280 = Divido en 5 -> 56.0 y divido en 7 -> 40.0\n",
      "\n",
      "315 = Divido en 5 -> 63.0 y divido en 7 -> 45.0\n",
      "\n",
      "350 = Divido en 5 -> 70.0 y divido en 7 -> 50.0\n",
      "\n"
     ]
    }
   ],
   "source": [
    "for numeros in (range(150,351,1)):\n",
    "    if (numeros%5 ==0 and numeros%7==0):\n",
    "        \n",
    "        print(numeros, end=\" = \")\n",
    "        print(f\"Divido en 5 -> {numeros/5} y divido en 7 -> {numeros/7}\" )\n",
    "        print()"
   ]
  },
  {
   "cell_type": "markdown",
   "metadata": {},
   "source": [
    "## Ejercicio 8\n",
    "Implementa un programa que imprima por pantalla el siguiente patrón\n",
    "\n",
    "5 4 3 2 1 \n",
    "\n",
    "4 3 2 1 \n",
    "\n",
    "3 2 1 \n",
    "\n",
    "2 1 \n",
    "\n",
    "1\n",
    "\n",
    "NOTA: NO hay lineas en blanco entre una línea y otra."
   ]
  },
  {
   "cell_type": "code",
   "execution_count": null,
   "metadata": {},
   "outputs": [
    {
     "name": "stdout",
     "output_type": "stream",
     "text": [
      "5 4 3 2 1 \n",
      "4 3 2 1 \n",
      "3 2 1 \n",
      "2 1 \n",
      "1 \n"
     ]
    }
   ],
   "source": [
    "x=5 \n",
    "\n",
    "while x>=1: \n",
    "     \n",
    "    for numeros_1 in (range(x,0,-1)):\n",
    "    \n",
    "        if numeros_1 >=1:\n",
    "            print(numeros_1, end = \" \")\n",
    "    print()    \n",
    "    \n",
    "    x=x-1\n",
    "       "
   ]
  },
  {
   "cell_type": "markdown",
   "metadata": {},
   "source": [
    "## Ejercicio 9\n",
    "En este ejercicio vamos a crear un pequeño juego. Se trata de intentar adivinar un numero del 1 al 5. Tenemos dos intentos para acertar. Pasos a seguir:\n",
    "\n",
    "1. Ya viene implementado con la librería `random` cómo obtener un número aleatorio del 1 al 5\n",
    "2. Tendrás que declarar en una variable el numero de vidas, y mediante un bucle while, comprobar que todavia quedan vidas.\n",
    "3. Dentro del bucle, obtener el valor del usuario y comprobar si es ese el numero a adivinar. Si no, actualizar las vidas.\n",
    "4. Si acertamos, salimos del bucle e imprimimos por pantalla \"You win\". Y si perdemos también salimos del bucle, pero en este caso imprimimos por pantalla \"You lose\".\n",
    "\n",
    "TIP: te puede resultar útil usar la sentencia `else` cuando acabe el bucle `while`. Lo que haya dentro de ese `else` se ejecutará una vez acabe la ejecución del `while`. Lo podrás usar para cuando pierdas."
   ]
  },
  {
   "cell_type": "code",
   "execution_count": 24,
   "metadata": {},
   "outputs": [
    {
     "name": "stdout",
     "output_type": "stream",
     "text": [
      "You lose\n"
     ]
    }
   ],
   "source": [
    "import random\n",
    "\n",
    "vidas=2\n",
    "numero_aleatorio= random.randint(1, 5)\n",
    "\n",
    "#print(numero_aleatorio)\n",
    "\n",
    "while vidas > 0:\n",
    "    x= int(input(\"Ingrese un numero entero entre 1 y 5:\"))\n",
    "    if (x== numero_aleatorio):\n",
    "        print(\"You win\")\n",
    "        break\n",
    "    else: # No es necesario usar el else en este caso.\n",
    "        #vidas=vidas-1\n",
    "        vidas -= 1  #Forma de bajar el mismo valor \n",
    "        \n",
    "\n",
    "if (vidas== 0):\n",
    "     print(\"You lose\")\n",
    "    "
   ]
  }
 ],
 "metadata": {
  "kernelspec": {
   "display_name": "Python 3",
   "language": "python",
   "name": "python3"
  },
  "language_info": {
   "codemirror_mode": {
    "name": "ipython",
    "version": 3
   },
   "file_extension": ".py",
   "mimetype": "text/x-python",
   "name": "python",
   "nbconvert_exporter": "python",
   "pygments_lexer": "ipython3",
   "version": "3.11.9"
  }
 },
 "nbformat": 4,
 "nbformat_minor": 4
}
