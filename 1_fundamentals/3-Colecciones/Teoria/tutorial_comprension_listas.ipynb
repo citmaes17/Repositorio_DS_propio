{
 "cells": [
  {
   "cell_type": "markdown",
   "metadata": {},
   "source": [
    "# Tutorial: Comprensión de Listas en Python\n",
    "\n",
    "¡Bienvenido a este tutorial sobre comprensión de listas! Este es uno de los conceptos más útiles y elegantes de Python.\n",
    "\n",
    "## ¿Qué es la comprensión de listas?\n",
    "\n",
    "La comprensión de listas es una forma concisa y legible de crear listas en Python. Permite generar una nueva lista aplicando una expresión a cada elemento de una secuencia existente."
   ]
  },
  {
   "cell_type": "markdown",
   "metadata": {},
   "source": [
    "## Sintaxis Básica\n",
    "\n",
    "La sintaxis básica es:\n",
    "\n",
    "```python\n",
    "[expresión for elemento in secuencia]\n",
    "```\n",
    "\n",
    "Comparemos con el método tradicional:"
   ]
  },
  {
   "cell_type": "code",
   "execution_count": null,
   "metadata": {},
   "outputs": [],
   "source": [
    "# Método tradicional con bucle for\n",
    "numeros = [1, 2, 3, 4, 5]\n",
    "cuadrados_tradicional = []\n",
    "\n",
    "for num in numeros:\n",
    "    cuadrados_tradicional.append(num ** 2)\n",
    "\n",
    "print(\"Método tradicional:\", cuadrados_tradicional)"
   ]
  },
  {
   "cell_type": "code",
   "execution_count": null,
   "metadata": {},
   "outputs": [],
   "source": [
    "# Con comprensión de listas\n",
    "numeros = [1, 2, 3, 4, 5]\n",
    "cuadrados_comprension = [num ** 2 for num in numeros]\n",
    "\n",
    "print(\"Comprensión de listas:\", cuadrados_comprension)"
   ]
  },
  {
   "cell_type": "markdown",
   "metadata": {},
   "source": [
    "## Ejemplo 1: Operaciones Matemáticas\n",
    "\n",
    "Veamos algunos ejemplos prácticos con operaciones matemáticas:"
   ]
  },
  {
   "cell_type": "code",
   "execution_count": null,
   "metadata": {},
   "outputs": [],
   "source": [
    "# Crear una lista de números del 1 al 10\n",
    "numeros = list(range(1, 11))\n",
    "print(\"Números originales:\", numeros)\n",
    "\n",
    "# Multiplicar cada número por 3\n",
    "multiplicados = [x * 3 for x in numeros]\n",
    "print(\"Multiplicados por 3:\", multiplicados)\n",
    "\n",
    "# Obtener los cubos\n",
    "cubos = [x ** 3 for x in numeros]\n",
    "print(\"Cubos:\", cubos)"
   ]
  },
  {
   "cell_type": "markdown",
   "metadata": {},
   "source": [
    "## Ejemplo 2: Trabajando con Strings\n",
    "\n",
    "La comprensión de listas también es muy útil para manipular cadenas de texto:"
   ]
  },
  {
   "cell_type": "code",
   "execution_count": null,
   "metadata": {},
   "outputs": [],
   "source": [
    "# Lista de nombres\n",
    "nombres = ['juan', 'maria', 'pedro', 'ana', 'luis']\n",
    "\n",
    "# Convertir a mayúsculas\n",
    "nombres_mayus = [nombre.upper() for nombre in nombres]\n",
    "print(\"Nombres en mayúsculas:\", nombres_mayus)\n",
    "\n",
    "# Obtener la primera letra de cada nombre\n",
    "iniciales = [nombre[0].upper() for nombre in nombres]\n",
    "print(\"Iniciales:\", iniciales)\n",
    "\n",
    "# Obtener la longitud de cada nombre\n",
    "longitudes = [len(nombre) for nombre in nombres]\n",
    "print(\"Longitudes:\", longitudes)"
   ]
  },
  {
   "cell_type": "markdown",
   "metadata": {},
   "source": [
    "## Comprensión de Listas con Condiciones\n",
    "\n",
    "Podemos agregar condiciones para filtrar elementos:\n",
    "\n",
    "```python\n",
    "[expresión for elemento in secuencia if condición]\n",
    "```"
   ]
  },
  {
   "cell_type": "code",
   "execution_count": null,
   "metadata": {},
   "outputs": [],
   "source": [
    "# Números del 1 al 20\n",
    "numeros = list(range(1, 21))\n",
    "\n",
    "# Solo números pares\n",
    "pares = [x for x in numeros if x % 2 == 0]\n",
    "print(\"Números pares:\", pares)\n",
    "\n",
    "# Solo números impares al cuadrado\n",
    "impares_cuadrado = [x ** 2 for x in numeros if x % 2 != 0]\n",
    "print(\"Impares al cuadrado:\", impares_cuadrado)\n",
    "\n",
    "# Números mayores que 10\n",
    "mayores_10 = [x for x in numeros if x > 10]\n",
    "print(\"Mayores que 10:\", mayores_10)"
   ]
  },
  {
   "cell_type": "markdown",
   "metadata": {},
   "source": [
    "## Ejemplo 3: Filtrado de Strings\n",
    "\n",
    "Aplicamos condiciones a strings:"
   ]
  },
  {
   "cell_type": "code",
   "execution_count": null,
   "metadata": {},
   "outputs": [],
   "source": [
    "frutas = ['manzana', 'banana', 'naranja', 'uva', 'pera', 'kiwi', 'mango']\n",
    "\n",
    "# Frutas con más de 4 letras\n",
    "frutas_largas = [fruta for fruta in frutas if len(fruta) > 4]\n",
    "print(\"Frutas con más de 4 letras:\", frutas_largas)\n",
    "\n",
    "# Frutas que empiezan con 'm'\n",
    "frutas_m = [fruta for fruta in frutas if fruta.startswith('m')]\n",
    "print(\"Frutas que empiezan con 'm':\", frutas_m)\n",
    "\n",
    "# Frutas que contienen 'a'\n",
    "frutas_con_a = [fruta.upper() for fruta in frutas if 'a' in fruta]\n",
    "print(\"Frutas con 'a' (en mayúsculas):\", frutas_con_a)"
   ]
  },
  {
   "cell_type": "markdown",
   "metadata": {},
   "source": [
    "## Comprensión de Listas Anidadas\n",
    "\n",
    "Podemos usar múltiples bucles for en una sola comprensión:"
   ]
  },
  {
   "cell_type": "code",
   "execution_count": null,
   "metadata": {},
   "outputs": [],
   "source": [
    "# Crear una tabla de multiplicar del 1 al 3\n",
    "tabla_multiplicar = [x * y for x in range(1, 4) for y in range(1, 4)]\n",
    "print(\"Productos (1-3 x 1-3):\", tabla_multiplicar)\n",
    "\n",
    "# Combinaciones de colores y tallas\n",
    "colores = ['rojo', 'azul', 'verde']\n",
    "tallas = ['S', 'M', 'L']\n",
    "\n",
    "combinaciones = [f\"{color}-{talla}\" for color in colores for talla in tallas]\n",
    "print(\"Combinaciones:\", combinaciones)"
   ]
  },
  {
   "cell_type": "markdown",
   "metadata": {},
   "source": [
    "## Ejemplo 4: Trabajando con Listas de Listas\n",
    "\n",
    "Aplanar una lista de listas:"
   ]
  },
  {
   "cell_type": "code",
   "execution_count": null,
   "metadata": {},
   "outputs": [],
   "source": [
    "# Lista de listas\n",
    "matriz = [[1, 2, 3], [4, 5, 6], [7, 8, 9]]\n",
    "\n",
    "# Aplanar la matriz\n",
    "lista_plana = [elemento for fila in matriz for elemento in fila]\n",
    "print(\"Lista original:\", matriz)\n",
    "print(\"Lista aplanada:\", lista_plana)\n",
    "\n",
    "# Solo elementos pares de la matriz\n",
    "pares_matriz = [elemento for fila in matriz for elemento in fila if elemento % 2 == 0]\n",
    "print(\"Solo elementos pares:\", pares_matriz)"
   ]
  },
  {
   "cell_type": "markdown",
   "metadata": {},
   "source": [
    "## Ejemplo 5: Usando Funciones\n",
    "\n",
    "Podemos aplicar funciones en las comprensiones de listas:"
   ]
  },
  {
   "cell_type": "code",
   "execution_count": null,
   "metadata": {},
   "outputs": [],
   "source": [
    "import math\n",
    "\n",
    "# Lista de números\n",
    "numeros = [1, 4, 9, 16, 25]\n",
    "\n",
    "# Calcular raíz cuadrada\n",
    "raices = [math.sqrt(x) for x in numeros]\n",
    "print(\"Raíces cuadradas:\", raices)\n",
    "\n",
    "# Función personalizada\n",
    "def es_primo(n):\n",
    "    if n < 2:\n",
    "        return False\n",
    "    for i in range(2, int(math.sqrt(n)) + 1):\n",
    "        if n % i == 0:\n",
    "            return False\n",
    "    return True\n",
    "\n",
    "# Números del 1 al 20\n",
    "numeros = list(range(1, 21))\n",
    "\n",
    "# Solo números primos\n",
    "primos = [x for x in numeros if es_primo(x)]\n",
    "print(\"Números primos del 1 al 20:\", primos)"
   ]
  },
  {
   "cell_type": "markdown",
   "metadata": {},
   "source": [
    "## Ejercicios Prácticos\n",
    "\n",
    "¡Ahora es tu turno! Intenta resolver estos ejercicios usando comprensión de listas:"
   ]
  },
  {
   "cell_type": "code",
   "execution_count": null,
   "metadata": {},
   "outputs": [],
   "source": [
    "# Ejercicio 1: Crear una lista con los números del 1 al 10, pero solo los divisibles por 3\n",
    "divisibles_por_3 = [x for x in range(1, 11) if x % 3 == 0]\n",
    "print(\"Divisibles por 3:\", divisibles_por_3)\n",
    "\n",
    "# Ejercicio 2: Dada una lista de temperaturas en Celsius, convertirlas a Fahrenheit\n",
    "celsius = [0, 10, 20, 30, 40]\n",
    "fahrenheit = [c * 9/5 + 32 for c in celsius]\n",
    "print(\"Temperaturas en Fahrenheit:\", fahrenheit)\n",
    "\n",
    "# Ejercicio 3: Crear una lista con las vocales de una palabra\n",
    "palabra = \"python\"\n",
    "vocales = [letra for letra in palabra if letra.lower() in 'aeiou']\n",
    "print(f\"Vocales en '{palabra}':\", vocales)"
   ]
  },
  {
   "cell_type": "markdown",
   "metadata": {},
   "source": [
    "## Ventajas de la Comprensión de Listas\n",
    "\n",
    "1. **Concisión**: Menos líneas de código\n",
    "2. **Legibilidad**: Más fácil de leer una vez que te acostumbras\n",
    "3. **Rendimiento**: Generalmente más rápida que bucles tradicionales\n",
    "4. **Pythónico**: Es la forma \"pythónica\" de hacer estas operaciones\n",
    "\n",
    "## Cuándo NO usar Comprensión de Listas\n",
    "\n",
    "- Cuando la lógica es muy compleja\n",
    "- Cuando necesitas múltiples operaciones por elemento\n",
    "- Cuando la legibilidad se ve comprometida\n",
    "\n",
    "En estos casos, es mejor usar bucles tradicionales."
   ]
  },
  {
   "cell_type": "markdown",
   "metadata": {},
   "source": [
    "## Conclusión\n",
    "\n",
    "¡Felicidades! Ahora conoces los fundamentos de la comprensión de listas en Python. Este es un concepto muy poderoso que te ayudará a escribir código más conciso y eficiente.\n",
    "\n",
    "### Recuerda la sintaxis:\n",
    "\n",
    "- Básica: `[expresión for elemento in secuencia]`\n",
    "- Con condición: `[expresión for elemento in secuencia if condición]`\n",
    "- Anidada: `[expresión for x in secuencia1 for y in secuencia2]`\n",
    "\n",
    "¡Sigue practicando y experimentando con diferentes ejemplos!"
   ]
  }
 ],
 "metadata": {
  "kernelspec": {
   "display_name": "Python 3",
   "language": "python",
   "name": "python3"
  },
  "language_info": {
   "codemirror_mode": {
    "name": "ipython",
    "version": 3
   },
   "file_extension": ".py",
   "mimetype": "text/x-python",
   "name": "python",
   "nbconvert_exporter": "python",
   "pygments_lexer": "ipython3",
   "version": "3.8.5"
  }
 },
 "nbformat": 4,
 "nbformat_minor": 4
}