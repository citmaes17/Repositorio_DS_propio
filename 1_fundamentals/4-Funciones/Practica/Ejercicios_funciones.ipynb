{
 "cells": [
  {
   "cell_type": "markdown",
   "metadata": {},
   "source": [
    "![imagen](./img/ejercicios.png)"
   ]
  },
  {
   "cell_type": "markdown",
   "metadata": {},
   "source": [
    "# Ejercicios funciones\n",
    "## Ejercicio 1\n",
    "Escribe una función que convierta números del 1 al 7 en nombres de los dias de la semana. La función constará de un único argumento numérico y una salida de tipo string"
   ]
  },
  {
   "cell_type": "code",
   "execution_count": 17,
   "metadata": {},
   "outputs": [
    {
     "name": "stdout",
     "output_type": "stream",
     "text": [
      "El dia de la semana es (utilizando diccionario): Lunes\n",
      "El dia de la semana es (utilizando case): Lunes\n"
     ]
    }
   ],
   "source": [
    "def numero_a_dia(numero: int) -> str: # Se usa -> Para expresar el tipo de salida que va a tener la funcion \n",
    "    dias = {1: \"Lunes\", 2: \"Martes\", 3: \"Miércoles\", 4: \"Jueves\", 5: \"Viernes\", 6: \"Sábado\", 7: \"Domingo\" }\n",
    "    return dias.get(numero, \"Número inválido\")\n",
    "\n",
    "\n",
    "def numeros_a_dias(numero):\n",
    "    match numero:\n",
    "        case 1:\n",
    "            return  \"Lunes\"\n",
    "        case 2:\n",
    "            return  \"Martes\"\n",
    "        case 3:\n",
    "            return  \"Miercoles\"\n",
    "        case 4:\n",
    "            return  \"Jueves\"\n",
    "        case 5:\n",
    "            return  \"Viernes\"\n",
    "        case 6:\n",
    "            return  \"Sabado\"\n",
    "        case 7:\n",
    "            return  \"Domingo\"\n",
    "\n",
    "\n",
    "dia= int(input(\"Ingrese el numero del dia:\").replace(\" \", \"\"))\n",
    "print(f\"El dia de la semana es (utilizando diccionario): {numero_a_dia(dia)}\")\n",
    "print(f\"El dia de la semana es (utilizando case): {numeros_a_dias(dia)}\")\n",
    "\n"
   ]
  },
  {
   "cell_type": "markdown",
   "metadata": {},
   "source": [
    "## Ejercicio 2\n",
    "En el ejercicio 8 de flujos de control, creábamos una pirámide invertida de números desde el 5. Crea una función que replique el comportamiento de la pirámide, y utiliza un único parámetro de entrada de la función para determinar el número de filas de la pirámide."
   ]
  },
  {
   "cell_type": "code",
   "execution_count": 23,
   "metadata": {},
   "outputs": [
    {
     "name": "stdout",
     "output_type": "stream",
     "text": [
      "8 7 6 5 4 3 2 1 \n",
      "7 6 5 4 3 2 1 \n",
      "6 5 4 3 2 1 \n",
      "5 4 3 2 1 \n",
      "4 3 2 1 \n",
      "3 2 1 \n",
      "2 1 \n",
      "1 \n"
     ]
    }
   ],
   "source": [
    "def piramide_invertida(filas: int) :\n",
    "    for i in range(filas, 0, -1):        \n",
    "        for j in range(i, 0, -1):        \n",
    "            print(j, end=\" \")\n",
    "        print()                          \n",
    "\n",
    "\n",
    "filas=int(input(\"Ingrese el numero de filas que quiere en la piramide:\").replace(\" \",\"\"))\n",
    "\n",
    "piramide_invertida(filas)"
   ]
  },
  {
   "cell_type": "markdown",
   "metadata": {},
   "source": [
    "## Ejercicio 3\n",
    "Escribe una función que compare dos números. La función tiene dos argumentos y hay tres salidas posibles: que sean iguales, que el primero sea  mayor que el segundo, o que el segundo sea mayor que el primero"
   ]
  },
  {
   "cell_type": "code",
   "execution_count": 26,
   "metadata": {},
   "outputs": [
    {
     "data": {
      "text/plain": [
       "'El segundo es mayor que el primero'"
      ]
     },
     "execution_count": 26,
     "metadata": {},
     "output_type": "execute_result"
    }
   ],
   "source": [
    "def comparar_numeros(a: int, b: int) -> str:\n",
    "    if a == b:\n",
    "        return \"Los números son iguales\"\n",
    "    elif a > b:\n",
    "        return \"El primero es mayor que el segundo\"\n",
    "    else:\n",
    "        return \"El segundo es mayor que el primero\"\n",
    "    \n",
    "\n",
    "numero_1=int(input(\"Ingrese el primer numero:\").replace(\" \",\"\"))\n",
    "numero_2=int(input(\"Ingrese el segundo numero:\").replace(\" \",\"\"))\n",
    "\n",
    "comparar_numeros(numero_1, numero_2)"
   ]
  },
  {
   "attachments": {},
   "cell_type": "markdown",
   "metadata": {},
   "source": [
    "## Ejercicio 4\n",
    "Escribe una función que sea un contador de letras. En el primer argumento tienes que introducir un texto, y el segundo que sea una letra que contar. La función tiene que devolver un entero con el número de veces que aparece esa letra, tanto mayúscula, como minúscula"
   ]
  },
  {
   "cell_type": "code",
   "execution_count": 29,
   "metadata": {},
   "outputs": [
    {
     "name": "stdout",
     "output_type": "stream",
     "text": [
      "hola como estan todos\n",
      "5\n"
     ]
    }
   ],
   "source": [
    "def contar_letras(texto: str, letra: str) -> int:\n",
    "   \n",
    "    texto = texto.lower()\n",
    "    letra = letra.lower()\n",
    "    return texto.count(letra)\n",
    "\n",
    "\n",
    "texto= str(input(\"Ingrese el texto que quiere que se cuente:\"))\n",
    "letra=str(input(\"Ingrese la letra que se debe contar:\").replace(\" \", \"\"))\n",
    "\n",
    "\n",
    "print (texto)\n",
    "print(contar_letras(texto, letra))"
   ]
  },
  {
   "cell_type": "markdown",
   "metadata": {},
   "source": [
    "## Ejercicio 5\n",
    "Escribe una función que tenga un único argumento, un string. La salida de la función tiene que ser un diccionario con el conteo de todas las letras de ese string, siendo la clave la letra y el valor el conteo."
   ]
  },
  {
   "cell_type": "code",
   "execution_count": 1,
   "metadata": {},
   "outputs": [
    {
     "name": "stdout",
     "output_type": "stream",
     "text": [
      "{'e': 5, 'n': 3, ' ': 4, 's': 4, 't': 2, 'a': 3, 'c': 1, 'l': 1, 'p': 2, 'r': 1, 'd': 1, 'm': 1, 'o': 2, 'y': 1, 'h': 1}\n"
     ]
    }
   ],
   "source": [
    "def contar_todas_letras(texto: str) -> dict:\n",
    "    dic = {}\n",
    "    texto=texto.lower()\n",
    "    for letra in texto:\n",
    "        dic[letra] = dic.get(letra, 0) + 1\n",
    "    return dic\n",
    "\n",
    "\n",
    "texto= str(input(\"Ingrese el texto que quiere que se cuente:\"))\n",
    "print(contar_todas_letras(texto))"
   ]
  },
  {
   "cell_type": "markdown",
   "metadata": {},
   "source": [
    "## Ejercicio 6\n",
    "Escribir una función que añada o elimine elementos en una lista. La función necesita los siguientes argumentos:\n",
    "* lista: la lista donde se añadirán o eliminarán los elementos\n",
    "* comando: \"add\" o \"remove\"\n",
    "* elemento: Por defecto es None.\n",
    "\n",
    "Tendrá como salida la lista"
   ]
  },
  {
   "cell_type": "code",
   "execution_count": 36,
   "metadata": {},
   "outputs": [
    {
     "name": "stdout",
     "output_type": "stream",
     "text": [
      "['hola', 'chao', 'bye', 'adios']\n"
     ]
    }
   ],
   "source": [
    "def modificar_lista(lista: list, comando: str, elemento=None) -> list:\n",
    "    if comando == \"add\":\n",
    "        if elemento is not None:\n",
    "            lista.append(elemento)\n",
    "    elif comando == \"remove\":\n",
    "        if elemento in lista:\n",
    "            lista.remove(elemento)\n",
    "    else:\n",
    "        print(\"Comando no válido. Usa 'add' o 'remove'.\")\n",
    "    return lista\n",
    "\n",
    "\n",
    "lista= [\"hola\", \"chao\", \"bye\"]\n",
    "elemento= input(\"Ingrese el elemento que quiere agregar o quitar:\")\n",
    "comando= 0\n",
    "\n",
    "modificar_lista(lista, \"add\", elemento)\n",
    "\n",
    "print(lista)\n",
    "\n"
   ]
  },
  {
   "cell_type": "markdown",
   "metadata": {},
   "source": [
    "## Ejercicio 7\n",
    "Crea una función que reciba un número arbitrario de palabras, y devuelva una frase completa, separando las palabras con espacios."
   ]
  },
  {
   "cell_type": "code",
   "execution_count": 40,
   "metadata": {},
   "outputs": [
    {
     "name": "stdout",
     "output_type": "stream",
     "text": [
      "hola como estas\n"
     ]
    }
   ],
   "source": [
    "def formar_frase(*palabras) -> str:\n",
    "    return \" \".join(palabras)\n",
    "\n",
    "print(formar_frase(\"hola\",\"como\",\"estas\"))"
   ]
  },
  {
   "cell_type": "markdown",
   "metadata": {},
   "source": [
    "## Ejercicio 8\n",
    "Escribe un programa que obtenga el enésimo número de la [serie de Fibonacci](https://es.wikipedia.org/wiki/Sucesi%C3%B3n_de_Fibonacci). Tienes que crear una función recursiva con un único argumento.\n",
    "\n",
    "```Python\n",
    "fibonacci(2) = 1\n",
    "fibonacci(4) = 3\n",
    "fibonacci(5) = 5\n",
    "fibonacci(8) = 21\n",
    "```"
   ]
  },
  {
   "cell_type": "markdown",
   "metadata": {},
   "source": [
    "fibonacci(n) = fibonacci(n-1) + fibonacci(n-2)"
   ]
  },
  {
   "cell_type": "code",
   "execution_count": 47,
   "metadata": {},
   "outputs": [
    {
     "name": "stdout",
     "output_type": "stream",
     "text": [
      "1\n"
     ]
    }
   ],
   "source": [
    "def fibonacci(n: int) -> int:\n",
    "    if n == 0:\n",
    "        return 0\n",
    "    elif n == 1:\n",
    "        return 1\n",
    "    else:\n",
    "        return fibonacci(n-1) + fibonacci(n-2)\n",
    "\n",
    "numero_8=int(input(\"Ingrese el numero:\").replace(\" \",\"\"))\n",
    "print(fibonacci(numero_8))\n"
   ]
  },
  {
   "attachments": {},
   "cell_type": "markdown",
   "metadata": {},
   "source": [
    "## Ejercicio 9\n",
    "Define en una única celda las siguientes funciones:\n",
    "* Función que calcule el área de un cuadrado\n",
    "* Función que calcule el área de un triángulo\n",
    "* Función que calcule el área de un círculo\n",
    "\n",
    "En otra celda, calcular el area de:\n",
    "* Dos círculos de radio 10 + un triángulo de base 3 y altura 7\n",
    "* Un cuadrado de lado = 10 + 3 círculos (uno de radio = 4 y los otros dos de radio = 6) + 5 triángulos de base = 2 + altura = 4"
   ]
  },
  {
   "cell_type": "code",
   "execution_count": 3,
   "metadata": {},
   "outputs": [],
   "source": [
    "import math\n",
    "\n",
    "def area_cuadrado(lado: float) -> float:\n",
    "    return lado ** 2\n",
    "\n",
    "def area_triangulo(base: float, altura: float) -> float:\n",
    "    return (base * altura) / 2\n",
    "\n",
    "def area_circulo(radio: float) -> float:\n",
    "    return math.pi * (radio ** 2)\n",
    "\n"
   ]
  },
  {
   "cell_type": "code",
   "execution_count": 4,
   "metadata": {},
   "outputs": [
    {
     "name": "stdout",
     "output_type": "stream",
     "text": [
      "Resultado 1: 638.8185307179587\n"
     ]
    }
   ],
   "source": [
    "resultado_1 = 2 * area_circulo(10) + area_triangulo(3, 7)\n",
    "print(\"Resultado 1:\", resultado_1)"
   ]
  },
  {
   "cell_type": "code",
   "execution_count": 13,
   "metadata": {},
   "outputs": [
    {
     "name": "stdout",
     "output_type": "stream",
     "text": [
      "Resultado 2: 396.46015351590177\n"
     ]
    }
   ],
   "source": [
    "resultado_2 = ( area_cuadrado(10) + area_circulo(4) + 2 * area_circulo(6) + 5 * area_triangulo(2, 4))\n",
    "print(\"Resultado 2:\", resultado_2)\n"
   ]
  },
  {
   "cell_type": "markdown",
   "metadata": {},
   "source": [
    "## Ejercicio 10\n",
    "\n",
    "Guarda las funciones de estos ejercicios en un fichero llamado `funciones.py` e importalas desde este jupyter notebook para probar que puedes hacer uso de ellas."
   ]
  },
  {
   "cell_type": "code",
   "execution_count": null,
   "metadata": {},
   "outputs": [],
   "source": [
    "import math\n",
    "\n",
    "\n",
    "def fibonacci(n: int) -> int:\n",
    "    if n == 0:\n",
    "        return 0\n",
    "    elif n == 1:\n",
    "        return 1\n",
    "    else:\n",
    "        return fibonacci(n-1) + fibonacci(n-2)\n",
    "\n",
    "def area_cuadrado(lado: float) -> float:\n",
    "    return lado ** 2\n",
    "\n",
    "def area_triangulo(base: float, altura: float) -> float:\n",
    "    return (base * altura) / 2\n",
    "\n",
    "def area_circulo(radio: float) -> float:\n",
    "    return math.pi * (radio ** 2)\n",
    "\n",
    "def contar_letras(texto: str, letra: str) -> int:\n",
    "    texto = texto.lower()\n",
    "    letra = letra.lower()\n",
    "    return texto.count(letra)\n",
    "\n",
    "def contar_todas_letras(texto: str) -> dict:\n",
    "    dic = {}\n",
    "    for caracter in texto:\n",
    "        dic[caracter] = dic.get(caracter, 0) + 1\n",
    "    return dic\n",
    "\n",
    "def numeros_a_dias(numero):\n",
    "    match numero:\n",
    "        case 1:\n",
    "            return  \"Lunes\"\n",
    "        case 2:\n",
    "            return  \"Martes\"\n",
    "        case 3:\n",
    "            return  \"Miercoles\"\n",
    "        case 4:\n",
    "            return  \"Jueves\"\n",
    "        case 5:\n",
    "            return  \"Viernes\"\n",
    "        case 6:\n",
    "            return  \"Sabado\"\n",
    "        case 7:\n",
    "            return  \"Domingo\"\n",
    "\n",
    "def piramide_invertida(filas: int) :\n",
    "    for i in range(filas, 0, -1):        \n",
    "        for j in range(i, 0, -1):        \n",
    "            print(j, end=\" \")\n",
    "        print()  \n",
    "        \n",
    "def comparar_numeros(a: int, b: int) -> str:\n",
    "    if a == b:\n",
    "        return \"Los números son iguales\"\n",
    "    elif a > b:\n",
    "        return \"El primero es mayor que el segundo\"\n",
    "    else:\n",
    "        return \"El segundo es mayor que el primero\"\n",
    "    \n",
    "def modificar_lista(lista: list, comando: str, elemento=None) -> list:\n",
    "    if comando == \"add\":\n",
    "        if elemento is not None:\n",
    "            lista.append(elemento)\n",
    "    elif comando == \"remove\":\n",
    "        if elemento in lista:\n",
    "            lista.remove(elemento)\n",
    "    else:\n",
    "        print(\"Comando no válido. Usa 'add' o 'remove'.\")\n",
    "    return lista\n",
    "\n",
    "def formar_frase(*palabras) -> str:\n",
    "    return \" \".join(palabras)\n"
   ]
  },
  {
   "cell_type": "code",
   "execution_count": 1,
   "metadata": {},
   "outputs": [
    {
     "name": "stdout",
     "output_type": "stream",
     "text": [
      "21\n",
      "100\n",
      "10.5\n",
      "50.26548245743669\n",
      "2\n",
      "{'H': 1, 'o': 2, 'l': 1, 'a': 1, ' ': 1, 'M': 1, 'u': 1, 'n': 1, 'd': 1}\n"
     ]
    }
   ],
   "source": [
    "import funciones\n",
    "\n",
    "print(funciones.fibonacci(8))   \n",
    "print(funciones.area_cuadrado(10))   \n",
    "print(funciones.area_triangulo(3, 7)) \n",
    "print(funciones.area_circulo(4)) \n",
    "print(funciones.contar_letras(\"Hola Mundo\", \"o\"))  \n",
    "print(funciones.contar_todas_letras(\"Hola Mundo\"))   "
   ]
  }
 ],
 "metadata": {
  "kernelspec": {
   "display_name": "Python 3",
   "language": "python",
   "name": "python3"
  },
  "language_info": {
   "codemirror_mode": {
    "name": "ipython",
    "version": 3
   },
   "file_extension": ".py",
   "mimetype": "text/x-python",
   "name": "python",
   "nbconvert_exporter": "python",
   "pygments_lexer": "ipython3",
   "version": "3.11.9"
  }
 },
 "nbformat": 4,
 "nbformat_minor": 4
}
