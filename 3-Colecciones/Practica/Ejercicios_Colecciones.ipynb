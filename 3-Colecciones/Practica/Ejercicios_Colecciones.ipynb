{
 "cells": [
  {
   "cell_type": "markdown",
   "metadata": {},
   "source": [
    "![imagen](./img/ejercicios.png)"
   ]
  },
  {
   "cell_type": "markdown",
   "metadata": {},
   "source": [
    "## Ejercicio 1\n",
    "Dada la siguiente lista:\n",
    "> ```ejer_1 = [1,2,3,4,5]```\n",
    "\n",
    "Inviértela para que quede de la siguiente manera\n",
    "> ```ejer_1 = [5,4,3,2,1]```"
   ]
  },
  {
   "cell_type": "code",
   "execution_count": 36,
   "metadata": {},
   "outputs": [
    {
     "name": "stdout",
     "output_type": "stream",
     "text": [
      "[5, 4, 3, 2, 1]\n",
      "[5, 4, 3, 2, 1]\n"
     ]
    }
   ],
   "source": [
    "ejer_1 = [1,2,3,4,5]\n",
    "print(list(reversed(ejer_1))) #No modifica la lista\n",
    "ejer_1.reverse() #Modifica la lista\n",
    "print(ejer_1)"
   ]
  },
  {
   "cell_type": "markdown",
   "metadata": {},
   "source": [
    "## Ejercicio 2\n",
    "Eleva todos los elementos de la lista al cuadrado\n",
    "> ```ejer_2 = [1,2,3,4,5]```"
   ]
  },
  {
   "cell_type": "code",
   "execution_count": 15,
   "metadata": {},
   "outputs": [
    {
     "name": "stdout",
     "output_type": "stream",
     "text": [
      "3\n",
      "[1, 4, 9, 16, 25]\n"
     ]
    }
   ],
   "source": [
    "ejer_2 = [1,2,3,4,5]\n",
    "print(ejer_2[2])\n",
    "ejer_2_elevado= [ i**2 for i in ejer_2]\n",
    "print(ejer_2_elevado)"
   ]
  },
  {
   "cell_type": "markdown",
   "metadata": {},
   "source": [
    "## Ejercicio 3\n",
    "Crea una lista nueva con todas las combinaciones de las siguientes dos listas:\n",
    "> ```ejer_3_1 = [\"Hola\", \"amigo\"]```\n",
    ">\n",
    "> ```ejer_3_2 = [\"Que\", \"tal\"]```\n",
    "\n",
    "Obten el siguiente output:\n",
    "\n",
    "```['Hola Que', 'Hola tal', 'amigo Que', 'amigo tal']```"
   ]
  },
  {
   "cell_type": "code",
   "execution_count": null,
   "metadata": {},
   "outputs": [
    {
     "name": "stdout",
     "output_type": "stream",
     "text": [
      "['Hola Que', 'Hola tal', 'amigo Que', 'amigo tal']\n",
      "['Hola Que', 'Hola tal', 'amigo Que', 'amigo tal']\n",
      "['Hola Que', 'Hola tal', 'amigo Que', 'amigo tal']\n"
     ]
    }
   ],
   "source": [
    "import itertools\n",
    "ejer_3_1 = [\"Hola\", \"amigo\"]\n",
    "ejer_3_2 = [\"Que\", \"tal\"]\n",
    "ejer_3_3_1=[]\n",
    "\n",
    "for i in ejer_3_1:\n",
    "    for j in ejer_3_2:\n",
    "        ejer_3_3_1.append(i + \" \"+ j)\n",
    "\n",
    "print(ejer_3_3_1)\n",
    "\n",
    "ejer_3_3_2= [(i+ \" \"+ j ) for i, j in itertools.product(ejer_3_1,ejer_3_2)]\n",
    "print(ejer_3_3_2)\n",
    "\n",
    "\n",
    "ejer_3_3_3 =[i+ \" \" +j for i in ejer_3_1 for j in ejer_3_2]\n",
    "print(ejer_3_3_3)\n",
    "\n",
    "\n"
   ]
  },
  {
   "attachments": {},
   "cell_type": "markdown",
   "metadata": {},
   "source": [
    "## Ejercicio 4\n",
    "Dada la siguiente lista, encuentra por el índice el valor 45 y sustitúyelo por el 0\n",
    "> ```ejer_4 = [20, 47, 19, 29, 45, 67, 78, 90]```"
   ]
  },
  {
   "cell_type": "code",
   "execution_count": 46,
   "metadata": {},
   "outputs": [
    {
     "name": "stdout",
     "output_type": "stream",
     "text": [
      "Recorriendo por índices:\n",
      "Índice 0: manzana\n",
      "Índice 1: pera\n",
      "Índice 2: uva\n",
      "Índice 3: naranja\n"
     ]
    }
   ],
   "source": [
    "frutas = [\"manzana\", \"pera\", \"uva\", \"naranja\"]\n",
    "\n",
    "print(\"Recorriendo por índices:\")\n",
    "for i in range(len(frutas)):  # range(4) → [0, 1, 2, 3]\n",
    "    print(f\"Índice {i}: {frutas[i]}\")"
   ]
  },
  {
   "cell_type": "markdown",
   "metadata": {},
   "source": [
    "## Ejercicio 5\n",
    "Dada la siguiente lista, elimina todos los valores iguales a 3\n",
    "> ```ejer_5 = [3, 20, 3, 47, 19, 3, 29, 45, 67, 78, 90, 3, 3]```\n",
    "\n",
    "TIP: No intentes eliminar elementos sobre la lista que estás iterando. Haz una copia con `ejer_5.copy()`."
   ]
  },
  {
   "cell_type": "code",
   "execution_count": null,
   "metadata": {},
   "outputs": [
    {
     "name": "stdout",
     "output_type": "stream",
     "text": [
      "[20, 47, 19, 29, 45, 67, 78, 90]\n"
     ]
    }
   ],
   "source": [
    "ejer_5 = [3, 20, 3, 47, 19, 3, 29, 45, 67, 78, 90, 3, 3]\n",
    "ejer_5_copy= ejer_5.copy()\n",
    "\n",
    "ejer_5_1= [i for i in ejer_5 if i != 3]\n",
    "print(ejer_5_1)\n",
    "\n",
    "\n"
   ]
  },
  {
   "attachments": {},
   "cell_type": "markdown",
   "metadata": {},
   "source": [
    "## Ejercicio 6\n",
    "1. Crea una tupla con 3 elementos\n",
    "2. Crea otra tupla con un elemento y comprueba su tipo\n",
    "3. Crea una tupla con elementos de diferentes tipos\n",
    "4. Imprime por pantalla el primer y último elemento de la tupla del apartado 3. Usa `len` para el último\n",
    "5. Añade un elemento a la tupla del apartado 3.\n",
    "6. Eliminar un elemento de la tupla del apartado 5, que se encuentre más o menos en la mitad.\n",
    "7. Convierte la tupla del apartado 5 en una lista"
   ]
  },
  {
   "cell_type": "code",
   "execution_count": null,
   "metadata": {},
   "outputs": [
    {
     "name": "stdout",
     "output_type": "stream",
     "text": [
      "<class 'tuple'>\n",
      "35\n",
      "True\n",
      "(35, 'Cata', True, 'F')\n"
     ]
    }
   ],
   "source": [
    "tupla_1= ( 31, \"Cindy\", True)\n",
    "tupla_2=( 22,)\n",
    "print(type(tupla_2))\n",
    "tupla_3=(35, \"Cata\", True)\n",
    "\n",
    "print(tupla_3[0])\n",
    "print(tupla_3[len(tupla_3)-1])\n",
    "tupla_3= tupla_3 +(\"F\",)\n",
    "print(tupla_3)\n",
    "\n"
   ]
  },
  {
   "attachments": {},
   "cell_type": "markdown",
   "metadata": {},
   "source": [
    "## Ejercicio 7\n",
    "Concatena todos los elementos de la tupla en un único string. Para ello utiliza el metodo `.join()` de los Strings\n",
    "> ```ejer_7 = (\"cien\", \"cañones\", \"por\", \"banda\")```\n",
    "\n",
    "Resultado: `cien cañones por banda`"
   ]
  },
  {
   "cell_type": "code",
   "execution_count": 67,
   "metadata": {},
   "outputs": [
    {
     "name": "stdout",
     "output_type": "stream",
     "text": [
      "cien cañones por banda\n",
      "<class 'str'>\n"
     ]
    }
   ],
   "source": [
    "ejer_7 = (\"cien\", \"cañones\", \"por\", \"banda\")\n",
    "\n",
    "ejer_7 = \" \".join(ejer_7)\n",
    "print(ejer_7)\n",
    "print(type(ejer_7))"
   ]
  },
  {
   "cell_type": "markdown",
   "metadata": {},
   "source": [
    "## Ejercicio 8\n",
    "Obten el tercer elemento de la siguiente tupla, y el tercero empezando por la cola\n",
    "> ```ejer_8 = (3, 20, 3, 47, 19, 3, 29, 45, 67, 78, 90, 3, 3)```"
   ]
  },
  {
   "cell_type": "code",
   "execution_count": 77,
   "metadata": {},
   "outputs": [
    {
     "name": "stdout",
     "output_type": "stream",
     "text": [
      "3\n",
      "90\n"
     ]
    }
   ],
   "source": [
    "ejer_8 = (3, 20, 3, 47, 19, 3, 29, 45, 67, 78, 90, 3, 3)\n",
    "\n",
    "print(ejer_8[2])\n",
    "print(ejer_8[-3])\n"
   ]
  },
  {
   "attachments": {},
   "cell_type": "markdown",
   "metadata": {},
   "source": [
    "## Ejercicio 9\n",
    "1. ¿Cuántas veces se repite el 3 en la siguiente tupla?\n",
    "2. Crea una tupla nueva con los elementos desde la posición 5 a la 10.\n",
    "3. ¿Cuántos elementos tiene la tupla `ejer_9`?\n",
    "4. Comprueba si el numero 60 está en la tupla\n",
    "> ```ejer_9 = (3, 20, 3, 47, 19, 3, 29, 45, 67, 78, 90, 3, 3, 5, 2, 4, 7, 9, 4, 2, 4, 3, 3, 4, 6, 7)```"
   ]
  },
  {
   "cell_type": "code",
   "execution_count": null,
   "metadata": {},
   "outputs": [
    {
     "name": "stdout",
     "output_type": "stream",
     "text": [
      "1-> 7\n",
      "2-> 7\n",
      "3-> 7\n",
      "(3, 29, 45, 67, 78, 90)\n",
      "(3, 29, 45, 67, 78, 90)\n",
      "6\n",
      "(3, 20, 3, 47, 19, 3, 29, 45, 67, 78, 90, 3, 3, 5, 2, 4, 7, 9, 4, 2, 4, 3, 3, 4, 6, 7)\n",
      "Esta 60 en la tupla:No\n"
     ]
    }
   ],
   "source": [
    "ejer_9 = (3, 20, 3, 47, 19, 3, 29, 45, 67, 78, 90, 3, 3, 5, 2, 4, 7, 9, 4, 2, 4, 3, 3, 4, 6, 7)\n",
    "\n",
    "count = len([i for i in ejer_9 if i == 3]) \n",
    "print(f\"1-> {count}\")\n",
    "\n",
    "i=0\n",
    "count_1=0\n",
    "\n",
    "while i <= (len(ejer_9)-1):\n",
    "    \n",
    "    if ejer_9[i] == 3:\n",
    "        count_1 +=1\n",
    "        \n",
    "    i +=1\n",
    "\n",
    "print(f\"2-> {count_1}\")   \n",
    "\n",
    "count_2=0\n",
    "for i in ejer_9:\n",
    "    if i == 3:\n",
    "        count_2 +=1\n",
    "    \n",
    "print(f\"3-> {count_2}\")      \n",
    "\n",
    "\n",
    "\n",
    "tupla_9= tuple([j for i,j in enumerate(ejer_9) if 5<= i <=10 ]  ) #List comprehension crea listas\n",
    "print(tupla_9)\n",
    "\n",
    "tupla_9_1=ejer_9[5:11]\n",
    "print(tupla_9_1)\n",
    "\n",
    "print(len(tupla_9))\n",
    "\n",
    "\n",
    "tupla_9_2= tuple(ejer_9)\n",
    "\n",
    "print(tupla_9_2)\n",
    "\n",
    "if  60 in tupla_9_2:\n",
    "    \n",
    "    verificador= \"Si\"\n",
    "    \n",
    "else:\n",
    "    \n",
    "    verificador =\"No\"\n",
    "    \n",
    "print(f\"Esta 60 en la tupla:{verificador}\")\n",
    "\n",
    "\n",
    "\n",
    "\n",
    "\n",
    "\n",
    "\n"
   ]
  },
  {
   "attachments": {},
   "cell_type": "markdown",
   "metadata": {},
   "source": [
    "## Ejercicio 10\n",
    "1. Convierte la tupla del ejercicio 9 en una lista\n",
    "2. Convierte la tupla del ejercicio 9 en un set\n",
    "3. Convierte la tupla del ejercicio 9 en un diccionario. Usa también los índices"
   ]
  },
  {
   "cell_type": "code",
   "execution_count": 139,
   "metadata": {},
   "outputs": [
    {
     "name": "stdout",
     "output_type": "stream",
     "text": [
      "[3, 20, 3, 47, 19, 3, 29, 45, 67, 78, 90, 3, 3, 5, 2, 4, 7, 9, 4, 2, 4, 3, 3, 4, 6, 7]\n",
      "[3, 20, 3, 47, 19, 3, 29, 45, 67, 78, 90, 3, 3, 5, 2, 4, 7, 9, 4, 2, 4, 3, 3, 4, 6, 7]\n",
      "[3, 20, 3, 47, 19, 3, 29, 45, 67, 78, 90, 3, 3, 5, 2, 4, 7, 9, 4, 2, 4, 3, 3, 4, 6, 7]\n",
      "{2, 3, 67, 5, 4, 7, 6, 9, 45, 78, 47, 19, 20, 90, 29}\n",
      "{0: 3, 1: 20, 2: 3, 3: 47, 4: 19, 5: 3, 6: 29, 7: 45, 8: 67, 9: 78, 10: 90, 11: 3, 12: 3, 13: 5, 14: 2, 15: 4, 16: 7, 17: 9, 18: 4, 19: 2, 20: 4, 21: 3, 22: 3, 23: 4, 24: 6, 25: 7}\n",
      "{'indice 0': 3, 'indice 1': 20, 'indice 2': 3, 'indice 3': 47, 'indice 4': 19, 'indice 5': 3, 'indice 6': 29, 'indice 7': 45, 'indice 8': 67, 'indice 9': 78, 'indice 10': 90, 'indice 11': 3, 'indice 12': 3, 'indice 13': 5, 'indice 14': 2, 'indice 15': 4, 'indice 16': 7, 'indice 17': 9, 'indice 18': 4, 'indice 19': 2, 'indice 20': 4, 'indice 21': 3, 'indice 22': 3, 'indice 23': 4, 'indice 24': 6, 'indice 25': 7}\n"
     ]
    }
   ],
   "source": [
    "ejer_10= [i for i in ejer_9]\n",
    "print(ejer_10)\n",
    "\n",
    "ejer_10_1= list(ejer_9)\n",
    "print(ejer_10_1)\n",
    "\n",
    "ejer_10_2= [*ejer_9]\n",
    "print(ejer_10_2)\n",
    "\n",
    "\n",
    "ejer_10_3=set(ejer_9)\n",
    "print(ejer_10_3)\n",
    "\n",
    "ejer_10_4={ i : j for i, j in enumerate(ejer_9)}\n",
    "print(ejer_10_4)\n",
    "\n",
    "\n",
    "ejer_10_5={}\n",
    "\n",
    "for i,j in enumerate(ejer_9):\n",
    "   ejer_10_5.update({f\"indice {i}\": j})\n",
    "       \n",
    "print (ejer_10_5)\n"
   ]
  },
  {
   "cell_type": "markdown",
   "metadata": {},
   "source": [
    "## Ejercicio 11\n",
    "Convierte la siguiente lista en un diccionario\n",
    "> ```ejer_11 = [(\"x\", 1), (\"x\", 2), (\"x\", 3), (\"y\", 1), (\"y\", 2), (\"z\", 1)]```\n",
    "\n",
    "TIP: Puedes usar dos variables de control en un bucle `for`. Una por cada valor de las tuplas."
   ]
  },
  {
   "cell_type": "code",
   "execution_count": null,
   "metadata": {},
   "outputs": [
    {
     "name": "stdout",
     "output_type": "stream",
     "text": [
      "{'x': 3, 'y': 2, 'z': 1}\n",
      "{'x': 3, 'y': 2, 'z': 1}\n",
      "{'x': [1, 2, 3], 'y': [1, 2], 'z': [1]}\n"
     ]
    }
   ],
   "source": [
    "ejer_11 = [(\"x\", 1), (\"x\", 2), (\"x\", 3), (\"y\", 1), (\"y\", 2), (\"z\", 1)]\n",
    "diccionario_11={}\n",
    "diccionario_11_2={}\n",
    "\n",
    "for x,y in ejer_11:\n",
    "    diccionario_11.update({x:y})\n",
    "        \n",
    "print(diccionario_11)   \n",
    "\n",
    "\n",
    "diccionario_11_1= {x:y for  x,y in ejer_11  }\n",
    "print(diccionario_11_1)\n",
    "\n",
    "for x,y in ejer_11:\n",
    "    (diccionario_11_2.setdefault(x,[])).append(y)\n",
    "print (diccionario_11_2)"
   ]
  },
  {
   "attachments": {},
   "cell_type": "markdown",
   "metadata": {},
   "source": [
    "## Ejercicio 12\n",
    "1. Crea una lista ordenada ascendente con las claves del diccionario\n",
    "2. Crea otra lista ordenada descendente con los valores\n",
    "3. Añade una nueva clave/valor\n",
    "4. Busca la clave igual a 2 dentro del diccionario\n",
    "5. Itera la clave y el valor del diccionario con un único for\n",
    "> ```ejer_12 = {4:78, 2:98, 8:234, 5:29}```"
   ]
  },
  {
   "cell_type": "code",
   "execution_count": 164,
   "metadata": {},
   "outputs": [
    {
     "name": "stdout",
     "output_type": "stream",
     "text": [
      "[2, 4, 5, 8]\n",
      "[234, 98, 78, 29]\n",
      "{4: 78, 2: 98, 8: 234, 5: 29, 6: 20}\n",
      "{4: 78, 2: 98, 8: 234, 5: 29, 6: 20, 9: 54}\n",
      "98\n",
      "Clave: 4 y valor: 78\n",
      "Clave: 2 y valor: 98\n",
      "Clave: 8 y valor: 234\n",
      "Clave: 5 y valor: 29\n",
      "Clave: 6 y valor: 20\n",
      "Clave: 9 y valor: 54\n"
     ]
    }
   ],
   "source": [
    "ejer_12 = {4: 78, 2: 98, 8: 234, 5: 29}\n",
    "ejer_12_1= sorted(ejer_12)\n",
    "\n",
    "print(ejer_12_1)\n",
    "\n",
    "ejer_12_2= sorted(ejer_12.values(), reverse=True)\n",
    "\n",
    "print(ejer_12_2)\n",
    "\n",
    "ejer_12[6]= 20\n",
    "\n",
    "print(ejer_12)\n",
    "\n",
    "ejer_12.update({9:54})\n",
    "\n",
    "print(ejer_12)\n",
    "\n",
    "\n",
    "print(ejer_12.get(2))\n",
    "\n",
    "\n",
    "for x,y in ejer_12.items():\n",
    "    print(f\"Clave: {x} y valor: {y}\")\n",
    "    \n",
    "    \n"
   ]
  },
  {
   "cell_type": "markdown",
   "metadata": {},
   "source": [
    "## Ejercicio 13\n",
    "Junta ambos diccionarios. Para ello, utiliza `update`\n",
    "> ```ejer_13_1 = {1: 11, 2: 22}```\n",
    ">\n",
    "> ```ejer_13_2 = {3: 33, 4: 44}```"
   ]
  },
  {
   "cell_type": "code",
   "execution_count": null,
   "metadata": {},
   "outputs": [],
   "source": [
    "ejer_13_1 = {1: 11, 2: 22}\n",
    "ejer_13_2 = {3: 33, 4: 44}\n",
    "\n",
    "ejer_13_1=ejer_13_1.update(ejer_12_2)"
   ]
  },
  {
   "cell_type": "markdown",
   "metadata": {},
   "source": [
    "## Ejercicio 14\n",
    "Suma todos los valores del dicionario\n",
    "> ```ejer_14 = {1: 11, 2: 22, 3: 33, 4: 44, 5: 55}```"
   ]
  },
  {
   "cell_type": "code",
   "execution_count": null,
   "metadata": {},
   "outputs": [],
   "source": []
  },
  {
   "cell_type": "markdown",
   "metadata": {},
   "source": [
    "## Ejercicio 15\n",
    "Multiplica todos los valores del diccionario\n",
    "> ```ejer_15 = {1: 11, 2: 22, 3: 33, 4: 44, 5: 55}```"
   ]
  },
  {
   "cell_type": "code",
   "execution_count": null,
   "metadata": {},
   "outputs": [],
   "source": []
  },
  {
   "cell_type": "markdown",
   "metadata": {},
   "source": [
    "## Ejercicio 16\n",
    "1. Crea un set de tres elementos\n",
    "2. Añade un cuarto\n",
    "3. Elimina el último elemento añadido\n",
    "4. Elimina el elemento 10, si está presente. Usa `discard()`"
   ]
  },
  {
   "cell_type": "code",
   "execution_count": null,
   "metadata": {},
   "outputs": [],
   "source": []
  }
 ],
 "metadata": {
  "kernelspec": {
   "display_name": "Python 3",
   "language": "python",
   "name": "python3"
  },
  "language_info": {
   "codemirror_mode": {
    "name": "ipython",
    "version": 3
   },
   "file_extension": ".py",
   "mimetype": "text/x-python",
   "name": "python",
   "nbconvert_exporter": "python",
   "pygments_lexer": "ipython3",
   "version": "3.11.9"
  }
 },
 "nbformat": 4,
 "nbformat_minor": 4
}
