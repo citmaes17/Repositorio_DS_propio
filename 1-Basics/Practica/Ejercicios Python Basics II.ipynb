{
 "cells": [
  {
   "attachments": {},
   "cell_type": "markdown",
   "metadata": {},
   "source": [
    "![imagen](./img/ejercicios.png)"
   ]
  },
  {
   "attachments": {},
   "cell_type": "markdown",
   "metadata": {},
   "source": [
    "# Ejercicios Python Basics II"
   ]
  },
  {
   "attachments": {},
   "cell_type": "markdown",
   "metadata": {},
   "source": [
    "## Ejercicio 1\n",
    "* Crea dos variables numericas: un `int` y un `float`\n",
    "* Comprueba sus tipos\n",
    "* Sumalas en otra nueva\n",
    "* ¿De qué tipo es la nueva variable?\n",
    "* Elimina las dos primeras variables creadas"
   ]
  },
  {
   "cell_type": "code",
   "execution_count": 3,
   "metadata": {},
   "outputs": [
    {
     "name": "stdout",
     "output_type": "stream",
     "text": [
      "<class 'int'>\n",
      "<class 'float'>\n",
      "<class 'float'>\n"
     ]
    }
   ],
   "source": [
    "x1= 5\n",
    "x2 = 8.5\n",
    "print(type(x1))\n",
    "print(type(x2))\n",
    "sumadatos=x1+x2\n",
    "print(type(sumadatos))\n",
    "del(x1,x2) #Se borran la variable x1 y x2\n"
   ]
  },
  {
   "attachments": {},
   "cell_type": "markdown",
   "metadata": {},
   "source": [
    "## Ejercicio 2\n",
    "Escribe un programa para pasar de grados a radianes. Hay que usar `input`. Recuerda que la conversión se realiza mediante\n",
    "\n",
    "radianes = grados*(pi/180)"
   ]
  },
  {
   "cell_type": "code",
   "execution_count": null,
   "metadata": {},
   "outputs": [
    {
     "name": "stdout",
     "output_type": "stream",
     "text": [
      "La conversion de 25 grados a radianes es: 4.363E-01\n"
     ]
    }
   ],
   "source": [
    "import math\n",
    "grados= int(input( \"Ingrese los grados:\"))\n",
    "radianes= grados * (math.pi /180)\n",
    "print(f\"La conversion de {grados} grados a radianes es: {radianes:1.3E}\")"
   ]
  },
  {
   "attachments": {},
   "cell_type": "markdown",
   "metadata": {},
   "source": [
    "## Ejercicio 3\n",
    "Escribe un programa que calcule el area de un paralelogramo (base x altura). También con `input`"
   ]
  },
  {
   "cell_type": "code",
   "execution_count": 11,
   "metadata": {},
   "outputs": [
    {
     "name": "stdout",
     "output_type": "stream",
     "text": [
      "El area del palelograma con base 2 y altura 10 es de: 20\n"
     ]
    }
   ],
   "source": [
    "altura= int(input(f\"Ingrese la altura:\"))\n",
    "base= int(input(f\"Ingrese la base:\"))\n",
    "area= altura* base\n",
    "print(f\"El area del palelograma con base {base} y altura {altura} es de: {area}\")"
   ]
  },
  {
   "attachments": {},
   "cell_type": "markdown",
   "metadata": {},
   "source": [
    "## Ejercicio 4\n",
    "Tenemos las siguientes variables:\n",
    "\n",
    "```Python\n",
    "A = 4\n",
    "B = \"Text\"\n",
    "C = 4.1\n",
    "```\n",
    "\n",
    "Comprueba:\n",
    "1. Si A y B son equivalentes\n",
    "2. Si A y C NO son equivalentes\n",
    "3. Si A es mayor que C \n",
    "4. Si C es menor o igual que A\n",
    "5. Si B NO es equivalente a C"
   ]
  },
  {
   "cell_type": "code",
   "execution_count": null,
   "metadata": {},
   "outputs": [
    {
     "name": "stdout",
     "output_type": "stream",
     "text": [
      "Es False que A y B son equivalentes\n",
      "Es True que A y C NO son equivalentes\n",
      "Es False que A es mayor que C\n",
      "Es False que C es menor o igual que A\n",
      "Es True que B NO es equivalente a C\n"
     ]
    }
   ],
   "source": [
    "A=4\n",
    "B= \"Text\"\n",
    "C = 4.1\n",
    "\n",
    "print(f\"Es {A == B} que A y B son equivalentes\")\n",
    "print(f\"Es {A != C} que A y C NO son equivalentes\")\n",
    "print(f\"Es {A > C} que A es mayor que C\")\n",
    "print(f\"Es {C <= A} que C es menor o igual que A\")\n",
    "print(f\"Es {B != C} que B NO es equivalente a C\")\n"
   ]
  },
  {
   "attachments": {},
   "cell_type": "markdown",
   "metadata": {},
   "source": [
    "## Ejercicio 5\n",
    "Crea un programa donde se recojan dos inputs del usuario, y el output del programa sea si esos inputs son iguales o no"
   ]
  },
  {
   "cell_type": "code",
   "execution_count": 19,
   "metadata": {},
   "outputs": [
    {
     "name": "stdout",
     "output_type": "stream",
     "text": [
      "Es False que 5 y 4 son iguales\n"
     ]
    }
   ],
   "source": [
    "x= int(input(\"Ingresa el primer dato:\"))\n",
    "y=int(input(\"Ingrese el segundo valor:\"))\n",
    "\n",
    "print(f\"Es {x==y} que {x} y {y} son iguales\")"
   ]
  },
  {
   "attachments": {},
   "cell_type": "markdown",
   "metadata": {},
   "source": [
    "## Ejercicio 6\n",
    "Mismo programa que en 5, pero en esta ocasión tienen que ser tres inputs y dos salidas. Una de las salidas que nos indique si todos son iguales, y la otra si al menos dos inputs sí que lo son"
   ]
  },
  {
   "cell_type": "code",
   "execution_count": 27,
   "metadata": {},
   "outputs": [
    {
     "name": "stdout",
     "output_type": "stream",
     "text": [
      "Los tres son iguales: True\n",
      "Al menos dos son iguales: True\n"
     ]
    }
   ],
   "source": [
    "x= int(input(\"Ingresa el primer valor:\"))\n",
    "y=int(input(\"Ingrese el segundo valor:\"))\n",
    "z=int(input(\"Ingrese el tercer valor:\"))\n",
    "\n",
    "comparacion= x==y and y ==z \n",
    "comparacion2 = x==y or x==z or y==z\n",
    "\n",
    "print(f\"Los tres son iguales: {comparacion}\")\n",
    "print (f\"Al menos dos son iguales: {comparacion2}\")"
   ]
  },
  {
   "attachments": {},
   "cell_type": "markdown",
   "metadata": {},
   "source": [
    "## Ejercicio 7\n",
    "Crea un programa que recoja dos inputs. Tiene que comprobar si su suma es igual, superior o inferior a 10"
   ]
  },
  {
   "cell_type": "code",
   "execution_count": 2,
   "metadata": {},
   "outputs": [
    {
     "name": "stdout",
     "output_type": "stream",
     "text": [
      "2 es igual a 10: False\n",
      "2 es mayor a 10: False\n",
      "2 es menor a 10: True\n"
     ]
    }
   ],
   "source": [
    "x= int(input(\"Ingresa el primer valor:\"))\n",
    "y=int(input(\"Ingrese el segundo valor:\"))\n",
    "\n",
    "suma=x+y \n",
    "\n",
    "print(f\"{suma} es igual a 10: {suma ==10}\")\n",
    "print(f\"{suma} es mayor a 10: {suma >10}\")\n",
    "print(f\"{suma} es menor a 10: {suma <10}\")\n"
   ]
  },
  {
   "attachments": {},
   "cell_type": "markdown",
   "metadata": {},
   "source": [
    "## Ejercicio 8\n",
    "Razona sin ejecutar código el output que obtendremos de las siguientes sentencias\n",
    "1. True and True and False\n",
    "2. not ((True or False) and (True or False))\n",
    "3. (False or False or False or True) and False\n",
    "4. not False and True and not True"
   ]
  },
  {
   "attachments": {},
   "cell_type": "markdown",
   "metadata": {},
   "source": [
    "1. FALSE  \n",
    "2. FALSE  \n",
    "3. FALSE\n",
    "4. FALSE"
   ]
  },
  {
   "attachments": {},
   "cell_type": "markdown",
   "metadata": {},
   "source": [
    "## Ejercicio 9\n",
    "Para este ejercicio vamos a poner en práctica [las funciones built in](https://docs.python.org/3/library/functions.html).\n",
    "\n",
    "1. Calcula el máximo de la lista: [4, 6, 8, -1]\n",
    "2. Suma todos los elementos de la lista anterior\n",
    "3. Redondea este float a 3 dígitos decimales: 63.451256965\n",
    "4. Valor absoluto de: -74"
   ]
  },
  {
   "cell_type": "code",
   "execution_count": 6,
   "metadata": {},
   "outputs": [
    {
     "name": "stdout",
     "output_type": "stream",
     "text": [
      "El maximo de la lista es: 8\n",
      "La suma de los datos de la lista es: 17\n",
      "El dato 63.451256965 redondeado a 3 digitos es: 63.451\n",
      "El valor absoluto de -74 es: 74\n"
     ]
    }
   ],
   "source": [
    "lista= [4,6,8,-1]\n",
    "\n",
    "print(f\"El maximo de la lista es: {max(lista)}\")\n",
    "print(f\"La suma de los datos de la lista es: {sum(lista)}\")\n",
    "print(f\"El dato 63.451256965 redondeado a 3 digitos es: {round(63.451256965,3)}\")\n",
    "print(f\"El valor absoluto de -74 es: {abs(-74)}\")"
   ]
  },
  {
   "attachments": {},
   "cell_type": "markdown",
   "metadata": {},
   "source": [
    "## Ejercicio 10\n",
    "Para el siguiente string se pide imprimir por pantalla los siguientes casos\n",
    "\n",
    "    \"En un lugar de la Mancha, de cuyo nombre no quiero acordarme.\"\n",
    "\n",
    "1. Pásalo todo a mayúsculas\n",
    "2. Pásalo todo a minúsculas\n",
    "3. Solo la primera letra de cada palabra en mayúscula, el resto en minúscula\n",
    "4. Crea una lista dividiéndolo por sus espacios\n",
    "5. Sustituye las comas `,` por puntos y comas `;`\n",
    "6. Elimina las `a` minúsculas"
   ]
  },
  {
   "cell_type": "code",
   "execution_count": 19,
   "metadata": {},
   "outputs": [
    {
     "name": "stdout",
     "output_type": "stream",
     "text": [
      "El texto en minusculas es: en un lugar de la mancha, de cuyo nombre no quiero recordar\n",
      "El texto en mayusculas es: EN UN LUGAR DE LA MANCHA, DE CUYO NOMBRE NO QUIERO RECORDAR\n",
      "El texto con solo las primeras letras en mayusculas es: En Un Lugar De La Mancha, De Cuyo Nombre No Quiero Recordar\n",
      "El texto  en lista separado por espacios: ['En', 'un', 'lugar', 'de', 'la', 'Mancha,', 'de', 'cuyo', 'nombre', 'no', 'quiero', 'recordar']\n",
      "El texto reemplazando ',' por ';': En un lugar de la Mancha; de cuyo nombre no quiero recordar\n",
      "El texto eliminando las 'a' minusculas: En un lugr de l Mnch, de cuyo nombre no quiero recordr\n"
     ]
    }
   ],
   "source": [
    "texto = \"En un lugar de la Mancha, de cuyo nombre no quiero recordar\"\n",
    "\n",
    "print(f\"El texto en minusculas es: {texto.lower()}\")\n",
    "print(f\"El texto en mayusculas es: {texto.upper()}\")\n",
    "print(f\"El texto con solo las primeras letras en mayusculas es: {texto.title()}\")\n",
    "print(f\"El texto  en lista separado por espacios: {texto.split(' ')}\")\n",
    "print(f\"El texto reemplazando ',' por ';': {texto.replace(',', ';')}\")\n",
    "print(f\"El texto eliminando las 'a' minusculas: {texto.replace('a', '')}\")\n"
   ]
  },
  {
   "attachments": {},
   "cell_type": "markdown",
   "metadata": {},
   "source": [
    "## Ejercicio 11\n",
    "1. Crea una lista con 3 elementos numéricos\n",
    "2. Añade un cuarto elemento\n",
    "3. Calcula la suma de todos\n",
    "4. Elimina el segundo elemento de la lista\n",
    "5. Añade otro elemento en la posicion 3 de la lista\n",
    "6. Crea otra lista con 4 elementos y concaténala a la que ya tenías."
   ]
  },
  {
   "cell_type": "code",
   "execution_count": 32,
   "metadata": {},
   "outputs": [
    {
     "name": "stdout",
     "output_type": "stream",
     "text": [
      "[1, 45, -87]\n",
      "Lista con el nuevo elemento: [1, 45, -87, 32]\n",
      "Suma de los valores de la lista: -9\n",
      "Lista sin el segundo elemento: [1, -87, 32]\n",
      "Lista con un nuevo elemento en la posicion 3: [1, -87, -51, 32]\n",
      "Lista concatenada con la nueva lista: [1, -87, -51, 32, 14, -20, 3, -11]\n"
     ]
    }
   ],
   "source": [
    "lista_11= [1,45,-87]\n",
    "print(lista_11)\n",
    "lista_11.append(32)\n",
    "print(f\"Lista con el nuevo elemento: {lista_11}\")\n",
    "suma_lista_11= sum(lista_11)\n",
    "print(f\"Suma de los valores de la lista: {suma_lista_11}\")\n",
    "lista_11.pop(1)\n",
    "print(f\"Lista sin el segundo elemento: {lista_11}\")\n",
    "lista_11.insert(2,-51)\n",
    "print(f\"Lista con un nuevo elemento en la posicion 3: {lista_11}\")\n",
    "lista_12= [14,-20,3,-11]\n",
    "lista_11.extend(lista_12)\n",
    "print(f\"Lista concatenada con la nueva lista: {lista_11}\")"
   ]
  }
 ],
 "metadata": {
  "kernelspec": {
   "display_name": "Python 3",
   "language": "python",
   "name": "python3"
  },
  "language_info": {
   "codemirror_mode": {
    "name": "ipython",
    "version": 3
   },
   "file_extension": ".py",
   "mimetype": "text/x-python",
   "name": "python",
   "nbconvert_exporter": "python",
   "pygments_lexer": "ipython3",
   "version": "3.11.9"
  }
 },
 "nbformat": 4,
 "nbformat_minor": 4
}
